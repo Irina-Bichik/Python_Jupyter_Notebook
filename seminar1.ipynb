{
 "cells": [
  {
   "cell_type": "markdown",
   "metadata": {},
   "source": [
    "# Задание 1\n",
    "1.1. Соедините два словаря в один\n",
    "dict1 = {'One':1, 'Two':2, 'Three':3}\n",
    "dict2 = {'Four':4, 'Five':5, 'Six':6}\n",
    "\n",
    "1.2. Напишите функцию, которая на вход принимает два словаря и возвращает один объединенный словарь. Используйте аннотирование типов."
   ]
  },
  {
   "cell_type": "code",
   "execution_count": 5,
   "metadata": {},
   "outputs": [
    {
     "data": {
      "text/plain": [
       "{'One': 1, 'Two': 2, 'Three': 3, 'Four': 4, 'Five': 5, 'Six': 6}"
      ]
     },
     "execution_count": 5,
     "metadata": {},
     "output_type": "execute_result"
    }
   ],
   "source": [
    "dict1 = {'One':1, 'Two':2, 'Three':3}\n",
    "dict2 = {'Four':4, 'Five':5, 'Six':6}\n",
    "dict1.update(dict2)\n",
    "dict1"
   ]
  },
  {
   "cell_type": "markdown",
   "metadata": {},
   "source": [
    "через функцию:"
   ]
  },
  {
   "cell_type": "code",
   "execution_count": 6,
   "metadata": {},
   "outputs": [
    {
     "data": {
      "text/plain": [
       "{'One': 1, 'Two': 2, 'Three': 3, 'Four': 4, 'Five': 5, 'Six': 6}"
      ]
     },
     "execution_count": 6,
     "metadata": {},
     "output_type": "execute_result"
    }
   ],
   "source": [
    "dict1 = {'One':1, 'Two':2, 'Three':3}\n",
    "dict2 = {'Four':4, 'Five':5, 'Six':6}\n",
    "def new_dict (dict1: dict, dict2: dict ) -> dict:\n",
    "    dict1.update(dict2)\n",
    "    return dict1\n",
    "new_dict (dict1, dict2)"
   ]
  },
  {
   "cell_type": "markdown",
   "metadata": {},
   "source": [
    "# Задание 2\n",
    "Напишите функцию, которая из двух списков, делает один словарь, где элементы из первого списка - ключи, а элементы из второго списка - значения\n",
    "keys = ['One', 'Two', 'Three']\n",
    "values = [1, 2, 3]\n",
    "Используйте аннотирование типов\n",
    "\n",
    "2.1. Используя цикл for\n",
    "2.2. Используя dict comprehensions"
   ]
  },
  {
   "cell_type": "code",
   "execution_count": 12,
   "metadata": {},
   "outputs": [
    {
     "data": {
      "text/plain": [
       "{'One': 1, 'Two': 2, 'Three': 3}"
      ]
     },
     "execution_count": 12,
     "metadata": {},
     "output_type": "execute_result"
    }
   ],
   "source": [
    "keys = ['One', 'Two', 'Three']\n",
    "values = [1, 2, 3]\n",
    "def new_dict (keys: list, values: list ) -> dict:\n",
    "    dict1={}\n",
    "    for i in range(len(keys)):\n",
    "        dict1 [keys[i]] = values[i]\n",
    "    return dict1    \n",
    "new_dict (keys, values)"
   ]
  },
  {
   "cell_type": "code",
   "execution_count": 13,
   "metadata": {},
   "outputs": [
    {
     "data": {
      "text/plain": [
       "{'One': 1, 'Two': 2, 'Three': 3}"
      ]
     },
     "execution_count": 13,
     "metadata": {},
     "output_type": "execute_result"
    }
   ],
   "source": [
    "keys = ['One', 'Two', 'Three']\n",
    "values = [1, 2, 3]\n",
    "def new_dict (keys: list, values: list ) -> dict:\n",
    "    return {keys[i]: values[i] for i in range(len(keys))}\n",
    "new_dict (keys, values)"
   ]
  },
  {
   "cell_type": "markdown",
   "metadata": {},
   "source": [
    "# Задание 3\n",
    "Извлеките только два ключа name и age из представленного словаря\n",
    "client_dict = {\n",
    "    \"name\": \"John\",\n",
    "    \"age\": 25,\n",
    "    \"salary\": 5000,\n",
    "    \"city\": \"Moscow\"\n",
    "}\n",
    "\n",
    "3.1. Напишите функцию с циклом for\n",
    "Функция на вход принимает:\n",
    "* исходный словарь\n",
    "* ключи, которые нужно извлечь (аргумент по умолчанию)\n",
    "На выходе словарь с нужными ключами\n",
    "Используйте аннотирование типов\n",
    "\n",
    "3.2. Используя dict comprehensions\n"
   ]
  },
  {
   "cell_type": "code",
   "execution_count": 15,
   "metadata": {},
   "outputs": [
    {
     "data": {
      "text/plain": [
       "{'name': 'John', 'age': 25}"
      ]
     },
     "execution_count": 15,
     "metadata": {},
     "output_type": "execute_result"
    }
   ],
   "source": [
    "client_dict = {\n",
    "    \"name\": \"John\",\n",
    "    \"age\": 25,\n",
    "    \"salary\": 5000,\n",
    "    \"city\": \"Moscow\"\n",
    "}\n",
    "\n",
    "def new_dict (slovar: dict, lust: list ) -> dict:\n",
    "    new_slovar = {}\n",
    "    for item in lust:\n",
    "        new_slovar.update({item:slovar.get(item)})\n",
    "    return new_slovar   \n",
    "new_dict (client_dict, [\"name\", \"age\"]) "
   ]
  },
  {
   "cell_type": "code",
   "execution_count": 16,
   "metadata": {},
   "outputs": [
    {
     "data": {
      "text/plain": [
       "{'name': 'John', 'age': 25}"
      ]
     },
     "execution_count": 16,
     "metadata": {},
     "output_type": "execute_result"
    }
   ],
   "source": [
    "client_dict = {\n",
    "    \"name\": \"John\",\n",
    "    \"age\": 25,\n",
    "    \"salary\": 5000,\n",
    "    \"city\": \"Moscow\"\n",
    "}\n",
    "\n",
    "def new_dict (slovar: dict, lust: list ) -> dict:\n",
    "    return {item:slovar.get(item) for item in lust}\n",
    "new_dict (client_dict, [\"name\", \"age\"]) "
   ]
  }
 ],
 "metadata": {
  "kernelspec": {
   "display_name": "Python 3",
   "language": "python",
   "name": "python3"
  },
  "language_info": {
   "codemirror_mode": {
    "name": "ipython",
    "version": 3
   },
   "file_extension": ".py",
   "mimetype": "text/x-python",
   "name": "python",
   "nbconvert_exporter": "python",
   "pygments_lexer": "ipython3",
   "version": "3.11.3"
  },
  "orig_nbformat": 4
 },
 "nbformat": 4,
 "nbformat_minor": 2
}
