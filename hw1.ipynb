{
 "cells": [
  {
   "cell_type": "markdown",
   "metadata": {},
   "source": [
    " ## Задание 1\n",
    "   __*На складе лежат разные фрукты в разном количестве.\n",
    "    Нужно написать функцию, которая на вход принимает любое количество названий фруктов и их количество, а возвращает общее количество фруктов на складе.*__\n",
    "   "
   ]
  },
  {
   "cell_type": "code",
   "execution_count": 21,
   "metadata": {},
   "outputs": [
    {
     "name": "stdout",
     "output_type": "stream",
     "text": [
      "Fruit banan in amounts of 6 pcs\n",
      "Fruit apple in amounts of 5 pcs\n",
      "Fruit avokado in amounts of 4 pcs\n",
      "Fruit orange in amounts of 3 pcs\n",
      "Fruit kivi in amounts of 2 pcs\n",
      "Fruit lemon in amounts of 1 pcs\n"
     ]
    },
    {
     "data": {
      "text/plain": [
       "'The total amount of fruits: 21'"
      ]
     },
     "execution_count": 21,
     "metadata": {},
     "output_type": "execute_result"
    }
   ],
   "source": [
    "def fruits (**kwargs):\n",
    "    {print (f\"Fruit {name} in amounts of {values} pcs\")\n",
    "        for name, values in kwargs.items()}\n",
    "    return (f'The total amount of fruits: {sum(kwargs.values())}')\n",
    "\n",
    "fruits (\n",
    "    banan = 6,\n",
    "    apple = 5,\n",
    "    avokado = 4,\n",
    "    orange = 3,\n",
    "    kivi = 2,\n",
    "    lemon = 1\n",
    ")"
   ]
  },
  {
   "cell_type": "markdown",
   "metadata": {},
   "source": [
    "## Задание 2\n",
    "   __*Дан список с затратами на рекламу. Но в данных есть ошибки, некоторые затраты имеют отрицательную величину. Удалите такие значения из списка и посчитайте суммарные затраты \n",
    "   [100, 125, -90, 345, 655, -1, 0, 200].\n",
    "   Используйте list comprehensions.*__"
   ]
  },
  {
   "cell_type": "code",
   "execution_count": 22,
   "metadata": {},
   "outputs": [
    {
     "name": "stdout",
     "output_type": "stream",
     "text": [
      "List of advertising costs [100, 125, 345, 655, 200]\n"
     ]
    },
    {
     "data": {
      "text/plain": [
       "'The total costs: 1425 '"
      ]
     },
     "execution_count": 22,
     "metadata": {},
     "output_type": "execute_result"
    }
   ],
   "source": [
    "list1= [100, 125, -90, 345, 655, -1, 0, 200]\n",
    "list2 = [i for i in list1 if i > 0]\n",
    "print(f'List of advertising costs {list2}')\n",
    "f'The total costs: {sum(list2)} '"
   ]
  },
  {
   "cell_type": "markdown",
   "metadata": {},
   "source": [
    "## Задание 3\n",
    "__*Даны два списка.\n",
    "Дата покупки\n",
    "['2021-09-14', '2021-12-15', '2021-09-08', '2021-12-05', '2021-10-09', '2021-09-30', '2021-12-22', '2021-11-29', '2021-12-24', '2021-11-26', '2021-10-27', '2021-12-18', '2021-11-09', '2021-11-23', '2021-09-27', '2021-10-02', '2021-12-27', '2021-09-20', '2021-12-13', '2021-11-01', '2021-11-09', '2021-12-06', '2021-12-08', '2021-10-09', '2021-10-31', '2021-09-30', '2021-11-09', '2021-12-13', '2021-10-26', '2021-12-09']\n",
    "Суммы покупок по датам\n",
    "[1270, 8413, 9028, 3703, 5739, 4095, 295, 4944, 5723, 3701, 4471, 651, 7037, 4274, 6275, 4988, 6930, 2971, 6592, 2004, 2822, 519, 3406, 2732, 5015, 2008, 316, 6333, 5700, 2887]*__\n",
    "\n",
    "### 3.1 Найдите, какая выручка у компании в ноябре\n",
    "__*Используйте list comprehensions*__\n",
    "\n",
    "### 3.2 Найдите выручку компании в зависимости от месяца\n",
    "__*Для этого напишите функцию, которая на вход принимает список с датами и список с выручкой, а на выходе словарь, где ключи - это месяцы, а значения - это выручка.\n",
    "Используйте аннотирование типов.*__"
   ]
  },
  {
   "cell_type": "code",
   "execution_count": 61,
   "metadata": {},
   "outputs": [
    {
     "data": {
      "text/plain": [
       "[('In the month of 11', 'Income 4944'),\n",
       " ('In the month of 11', 'Income 3701'),\n",
       " ('In the month of 11', 'Income 7037'),\n",
       " ('In the month of 11', 'Income 4274'),\n",
       " ('In the month of 11', 'Income 2004'),\n",
       " ('In the month of 11', 'Income 2822'),\n",
       " ('In the month of 11', 'Income 316')]"
      ]
     },
     "execution_count": 61,
     "metadata": {},
     "output_type": "execute_result"
    }
   ],
   "source": [
    "purchase_dates = ['2021-09-14', '2021-12-15', '2021-09-08', '2021-12-05', '2021-10-09', '2021-09-30', '2021-12-22', '2021-11-29', '2021-12-24', '2021-11-26', '2021-10-27', '2021-12-18', '2021-11-09', '2021-11-23', '2021-09-27',\n",
    "              '2021-10-02', '2021-12-27', '2021-09-20', '2021-12-13', '2021-11-01', '2021-11-09', '2021-12-06', '2021-12-08', '2021-10-09', '2021-10-31', '2021-09-30', '2021-11-09', '2021-12-13', '2021-10-26', '2021-12-09']\n",
    "purchase_sum = [1270, 8413, 9028, 3703, 5739, 4095, 295, 4944, 5723, 3701, 4471, 651, 7037, 4274,\n",
    "                  6275, 4988, 6930, 2971, 6592, 2004, 2822, 519, 3406, 2732, 5015, 2008, 316, 6333, 5700, 2887]\n",
    "\n",
    "list_month = [i.split('-')[1] for i in purchase_dates]\n",
    "\n",
    "income_november = [(f'In the month of {list_month[i]}', f'Income {purchase_sum [j]}')\n",
    "                          for i in range(len(list_month))\n",
    "                          for j in range(len(purchase_sum))\n",
    "                          if i == j and list_month[i] == '11']\n",
    "income_november"
   ]
  },
  {
   "cell_type": "code",
   "execution_count": 60,
   "metadata": {},
   "outputs": [
    {
     "name": "stdout",
     "output_type": "stream",
     "text": [
      "In the month of 11 revenue is: 25098\n"
     ]
    }
   ],
   "source": [
    "print(income_november[0][0], f'revenue is: {sum ([amount for dates, amount in zip(purchase_dates, purchase_sum) if dates [5:7] == \"11\"])}')"
   ]
  },
  {
   "cell_type": "code",
   "execution_count": 63,
   "metadata": {},
   "outputs": [
    {
     "data": {
      "text/plain": [
       "{'09': 25647, '12': 45452, '10': 28645, '11': 25098}"
      ]
     },
     "execution_count": 63,
     "metadata": {},
     "output_type": "execute_result"
    }
   ],
   "source": [
    "def income_month(list_date: list, list_income: list) -> dict:\n",
    "    dict_revenue = {}\n",
    "    for i in range(len(list_date)):\n",
    "        if list_date[i].split('-')[1] in dict_revenue.keys():\n",
    "            dict_revenue[list_date[i].split('-')[1]] += list_income[i]\n",
    "        else:\n",
    "            dict_revenue[list_date[i].split('-')[1]] = list_income[i]\n",
    "    return dict_revenue\n",
    "\n",
    "income_month(purchase_dates, purchase_sum)"
   ]
  }
 ],
 "metadata": {
  "kernelspec": {
   "display_name": "Python 3",
   "language": "python",
   "name": "python3"
  },
  "language_info": {
   "codemirror_mode": {
    "name": "ipython",
    "version": 3
   },
   "file_extension": ".py",
   "mimetype": "text/x-python",
   "name": "python",
   "nbconvert_exporter": "python",
   "pygments_lexer": "ipython3",
   "version": "3.11.3"
  },
  "orig_nbformat": 4
 },
 "nbformat": 4,
 "nbformat_minor": 2
}
